{
 "cells": [
  {
   "cell_type": "code",
   "execution_count": 29,
   "metadata": {},
   "outputs": [],
   "source": [
    "import pickle\n",
    "import pandas as pd\n",
    "from statsmodels.stats.proportion import proportions_ztest\n",
    "import numpy as np\n",
    "import matplotlib.pyplot as plt\n",
    "from scipy import stats\n",
    "import bokeh.plotting as bkp\n",
    "from mpl_toolkits.axes_grid1 import make_axes_locatable\n",
    "from statsmodels.graphics import tsaplots\n",
    "from uszipcode import ZipcodeSearchEngine\n",
    "import statsmodels.api as sm\n",
    "import pylab\n"
   ]
  },
  {
   "cell_type": "code",
   "execution_count": 19,
   "metadata": {},
   "outputs": [
    {
     "data": {
      "image/png": "[encoded data removed]",
      "text/plain": [
       "<matplotlib.figure.Figure at 0x27265eda780>"
      ]
     },
     "metadata": {},
     "output_type": "display_data"
    }
   ],
   "source": [
    "data = pd.read_csv(\"cleaned_data_final.csv\")\n",
    "# plot prices to see what the distribution looks like\n",
    "_ = plt.hist(data['price'], bins = 100, normed=True, histtype = 'step')\n",
    "plt.show()"
   ]
  },
  {
   "cell_type": "markdown",
   "metadata": {},
   "source": [
    "## Plot Pct Craigslist Listings Per Population To See If It's Normal Distribution"
   ]
  },
  {
   "cell_type": "code",
   "execution_count": 51,
   "metadata": {
    "scrolled": false
   },
   "outputs": [
    {
     "data": {
      "image/png": "[encoded data removed]",
      "text/plain": [
       "<matplotlib.figure.Figure at 0x27265d417b8>"
      ]
     },
     "metadata": {},
     "output_type": "display_data"
    }
   ],
   "source": [
    "# plot count of craigslist beds per zipcodee\n",
    "craigslist_over_total = munged['craigslist pct per total units']\n",
    "craigslist_over_total = craigslist_over_total.drop(10) \n",
    "_ = plt.hist(craigslist_over_total, bins = 100, normed=True, histtype = 'step')\n",
    "plt.show()"
   ]
  },
  {
   "cell_type": "code",
   "execution_count": 69,
   "metadata": {},
   "outputs": [
    {
     "data": {
      "text/html": [
       "<div>\n",
       "<style scoped>\n",
       "    .dataframe tbody tr th:only-of-type {\n",
       "        vertical-align: middle;\n",
       "    }\n",
       "\n",
       "    .dataframe tbody tr th {\n",
       "        vertical-align: top;\n",
       "    }\n",
       "\n",
       "    .dataframe thead th {\n",
       "        text-align: right;\n",
       "    }\n",
       "</style>\n",
       "<table border=\"1\" class=\"dataframe\">\n",
       "  <thead>\n",
       "    <tr style=\"text-align: right;\">\n",
       "      <th></th>\n",
       "      <th>craigslist pct per total units</th>\n",
       "      <th>zipcodes</th>\n",
       "      <th>total units</th>\n",
       "    </tr>\n",
       "  </thead>\n",
       "  <tbody>\n",
       "    <tr>\n",
       "      <th>40</th>\n",
       "      <td>0.906166</td>\n",
       "      <td>55402</td>\n",
       "      <td>373.0</td>\n",
       "    </tr>\n",
       "    <tr>\n",
       "      <th>83</th>\n",
       "      <td>0.750000</td>\n",
       "      <td>55455</td>\n",
       "      <td>4.0</td>\n",
       "    </tr>\n",
       "    <tr>\n",
       "      <th>13</th>\n",
       "      <td>0.527329</td>\n",
       "      <td>55114</td>\n",
       "      <td>1610.0</td>\n",
       "    </tr>\n",
       "    <tr>\n",
       "      <th>39</th>\n",
       "      <td>0.347516</td>\n",
       "      <td>55401</td>\n",
       "      <td>4912.0</td>\n",
       "    </tr>\n",
       "    <tr>\n",
       "      <th>52</th>\n",
       "      <td>0.242475</td>\n",
       "      <td>55414</td>\n",
       "      <td>10797.0</td>\n",
       "    </tr>\n",
       "  </tbody>\n",
       "</table>\n",
       "</div>"
      ],
      "text/plain": [
       "    craigslist pct per total units  zipcodes  total units\n",
       "40                        0.906166     55402        373.0\n",
       "83                        0.750000     55455          4.0\n",
       "13                        0.527329     55114       1610.0\n",
       "39                        0.347516     55401       4912.0\n",
       "52                        0.242475     55414      10797.0"
      ]
     },
     "execution_count": 69,
     "metadata": {},
     "output_type": "execute_result"
    }
   ],
   "source": [
    "pct_crgslist_zip = munged[['craigslist pct per total units', 'zipcodes', 'total units']].drop(10)\n",
    "pct_crgslist_zip_sort = pct_crgslist_zip.sort_values(by = 'craigslist pct per total units', ascending = False )\n",
    "top_five = pct_crgslist_zip_sort[:5]\n",
    "top_five"
   ]
  },
  {
   "cell_type": "markdown",
   "metadata": {},
   "source": [
    "The distribution of percent of craigslist units advertised per total population in each zipcode is skewed right, suggesting that there are a few zipcodes where craigslist ads tend to be located more. The three zipcodes with the highest pct of craigslist listings per zipcode have very low total units. The 4th largest comes from the downtown area of Minneapolis, where a high number of new developments are taking place, and the 5th largest comes from the are of Minneapolis where University of Minnesota-Twin Cities, and therefore a large percentage of student housing is located. The distribution was plotted To see what it looks like without these high points that skew it right. As can be seen below, the distribution is still skewed right. "
   ]
  },
  {
   "cell_type": "code",
   "execution_count": 73,
   "metadata": {},
   "outputs": [
    {
     "data": {
      "image/png": "[encoded data removed]",
      "text/plain": [
       "<matplotlib.figure.Figure at 0x27265f9bc88>"
      ]
     },
     "metadata": {},
     "output_type": "display_data"
    }
   ],
   "source": [
    "pct_craigslist_zip_sort_no_outliers = pct_crgslist_zip.sort_values(by = 'craigslist pct per total units', ascending = False )[6:]\n",
    "\n",
    "# plot count of craigslist beds per zipcode without outliers\n",
    "craigslist_over_total = pct_craigslist_zip_sort_no_outliers['craigslist pct per total units']\n",
    "\n",
    "_ = plt.hist(craigslist_over_total, bins = 100, normed=True, histtype = 'step')\n",
    "plt.show()"
   ]
  },
  {
   "cell_type": "markdown",
   "metadata": {},
   "source": [
    "## Investigating Unknown Beds Values or Bed Values 1 Using Clustering Along Price Value"
   ]
  },
  {
   "cell_type": "code",
   "execution_count": 17,
   "metadata": {},
   "outputs": [
    {
     "data": {
      "image/png": "[encoded data removed]",
      "text/plain": [
       "<matplotlib.figure.Figure at 0x27265dc6400>"
      ]
     },
     "metadata": {},
     "output_type": "display_data"
    }
   ],
   "source": [
    "# import pickle file containing bed values that were unassigned\n",
    "unassigned_beds = pd.read_pickle('unassigned_beds.pickle', compression = \"infer\")\n",
    "# limit to price column\n",
    "unassigned_beds['price'] = unassigned_beds['price'].astype(float)\n",
    "# drop clear outliers from unassigned beds\n",
    "unassigned_beds = unassigned_beds.loc[unassigned_beds['price'] < 10000] \n",
    "unassigned_beds = unassigned_beds['price']\n",
    "# visualize distribution of unassigned beds to look for patterns\n",
    "_ = plt.hist(unassigned_beds, bins = 100, normed=True, histtype = 'step')\n",
    "plt.show()"
   ]
  },
  {
   "cell_type": "code",
   "execution_count": 38,
   "metadata": {},
   "outputs": [
    {
     "data": {
      "image/png": "[encoded data removed]",
      "text/plain": [
       "<matplotlib.figure.Figure at 0x272667ca3c8>"
      ]
     },
     "metadata": {},
     "output_type": "display_data"
    }
   ],
   "source": [
    "# subset beds that were assigned one to take a closer look\n",
    "one_bed = over_fmr.loc[over_fmr['beds_baths'] == \"1\"]\n",
    "#plot_df = updated_df_clean.loc[updated_df_clean['no match'] == True]\n",
    "#print (len(plot_df))\n",
    "_ = plt.hist(one_bed['price'], bins = 100, normed=True, histtype = 'step')\n",
    "plt.show()"
   ]
  },
  {
   "cell_type": "code",
   "execution_count": 21,
   "metadata": {
    "collapsed": true
   },
   "outputs": [],
   "source": [
    "# import dataframe containing column on properties over fair market rent\n",
    "over_fmr = pd.read_csv(\"over_fmr_dataframe.csv\")"
   ]
  },
  {
   "cell_type": "markdown",
   "metadata": {},
   "source": [
    "## Two Sample Proportions Z-test To Test Whether St. Paul Is More Affordable Than Minneapolis\n",
    "\n",
    "Alpha = .05\n",
    "\n",
    "Null Hypothesis: There is not difference between the proportion of craigslist rentals in Minneapolis one standard deviaton over FMR and the proportion of craigslist rentals in St. Paul one standard deviation over FMR\n",
    "\n",
    "Alternative Hypothesis: The proportion of craigslist rentals in Minneapolis one standard deviaton over FMR is greater than the proportion of craigslist rentals in St. Paul one standard deviation over FMR"
   ]
  },
  {
   "cell_type": "code",
   "execution_count": 158,
   "metadata": {
    "collapsed": true
   },
   "outputs": [],
   "source": [
    "# subset st paul and minneapolis ads that are one standard deviation over the fair market rent\n",
    "st_paul_over_fmr = over_fmr.loc[(over_fmr['City'] == \"SAINT PAUL\") & (over_fmr['over fmr1'] == 1)]\n",
    "minneapolis_over_fmr = over_fmr.loc[(over_fmr[\"City\"] == \"MINNEAPOLIS\") & (over_fmr['over fmr1'] == 1)]"
   ]
  },
  {
   "cell_type": "code",
   "execution_count": 159,
   "metadata": {
    "collapsed": true
   },
   "outputs": [],
   "source": [
    "# subset total listings within St Paul and Minneapolis\n",
    "st_paul_sample = len(over_fmr.loc[over_fmr['City'] == \"SAINT PAUL\"])\n",
    "minneapolis_sample = len(over_fmr.loc[over_fmr['City'] == \"MINNEAPOLIS\"])"
   ]
  },
  {
   "cell_type": "code",
   "execution_count": 160,
   "metadata": {},
   "outputs": [
    {
     "name": "stdout",
     "output_type": "stream",
     "text": [
      "2305 7165 1213 4219\n"
     ]
    }
   ],
   "source": [
    "# get total amount of listings in St. Paul and Minneapolis over fmr\n",
    "st_paul_true = len(st_paul_over_fmr)\n",
    "minneapolis_true = len(minneapolis_over_fmr)\n",
    "print (st_paul_sample, minneapolis_sample, st_paul_true, minneapolis_true)"
   ]
  },
  {
   "cell_type": "code",
   "execution_count": 161,
   "metadata": {},
   "outputs": [
    {
     "name": "stdout",
     "output_type": "stream",
     "text": [
      "p value =  6.28653043154e-08\n"
     ]
    }
   ],
   "source": [
    "# create numpy array of rentals one standard deviation over fair market rent for respective cities\n",
    "count = np.array([int(minneapolis_true), int(st_paul_true)])\n",
    "# create a numpy array of total number of rentals in saint paul and minneapolis\n",
    "nobs = np.array([int(minneapolis_sample), int(st_paul_sample)])\n",
    "# run proportions z test assuming null hypothesis is true, hence \"larger\" as argument for alternative\n",
    "# that minneapolis has a greater proportion of over fair market rent \n",
    "z, p = proportions_ztest(count, nobs, alternative = 'larger' )\n",
    "print (\"p value = \", p)"
   ]
  },
  {
   "cell_type": "markdown",
   "metadata": {},
   "source": [
    "The p-value is below the alpha lebel, so the alternative hypothesis is accepted"
   ]
  },
  {
   "cell_type": "markdown",
   "metadata": {},
   "source": [
    "## Two Sample T-test of Means to Test If There Is A Difference in Affordability Between Zipodes Below And Above Median Wealth Rating\n",
    "\n",
    "Alpha = .05\n",
    "\n",
    "Null Hypothesis: There is no difference between the means of Zipcodes Above Median Wealth and"
   ]
  },
  {
   "cell_type": "code",
   "execution_count": 33,
   "metadata": {
    "collapsed": true
   },
   "outputs": [],
   "source": [
    "# read in the munged data\n",
    "munged = pd.read_csv('craigslist_munged1.csv')\n",
    "munged\n",
    "# subset munged data into above median income and under median income\n",
    "above_med = munged.loc[munged['above median'] == True]\n",
    "under_med = munged.loc[munged['above median'] == False]"
   ]
  },
  {
   "cell_type": "markdown",
   "metadata": {},
   "source": [
    "would be interesting to see how much more people are paying for the amount of money that they make"
   ]
  },
  {
   "cell_type": "code",
   "execution_count": 19,
   "metadata": {
    "collapsed": true
   },
   "outputs": [],
   "source": [
    "# calculat mean and standard deviation for craigslist pct over fmr field\n",
    "# for each subset\n",
    "above_med_std = np.std(above_med['craigslist pct over fmr'])\n",
    "under_med_std = np.std(under_med['craigslist pct over fmr'])\n",
    "above_med_mu = np.std(above_med['craigslist pct over fmr'])\n",
    "under_med_mu = np.std(under_med['craigslist pct over fmr'])\n"
   ]
  },
  {
   "cell_type": "code",
   "execution_count": 21,
   "metadata": {},
   "outputs": [
    {
     "data": {
      "text/plain": [
       "0.87064156278393545"
      ]
     },
     "execution_count": 21,
     "metadata": {},
     "output_type": "execute_result"
    }
   ],
   "source": [
    "# run two sample means t-test \n",
    "t, p = stats.ttest_ind(above_med['craigslist pct over fmr'], under_med['craigslist pct over fmr'])\n",
    "p"
   ]
  },
  {
   "cell_type": "markdown",
   "metadata": {},
   "source": [
    "## Whitney Test With the Same Data"
   ]
  },
  {
   "cell_type": "code",
   "execution_count": 34,
   "metadata": {},
   "outputs": [
    {
     "data": {
      "text/plain": [
       "0.40172131399245292"
      ]
     },
     "execution_count": 34,
     "metadata": {},
     "output_type": "execute_result"
    }
   ],
   "source": [
    "s, p = stats.mannwhitneyu(above_med['craigslist pct over fmr'], under_med['craigslist pct over fmr'], alternative = \"two-sided\")\n",
    "p"
   ]
  },
  {
   "cell_type": "markdown",
   "metadata": {},
   "source": [
    "## Two Sample T-test of Means to Test If There Is A Difference in Affordability Between St. Paul and Minneapolis and their surrounding suburbs\n",
    "\n",
    "\n"
   ]
  },
  {
   "cell_type": "code",
   "execution_count": 140,
   "metadata": {
    "collapsed": true
   },
   "outputs": [],
   "source": [
    "df_vals_over_fmr = pd.read_csv('over_fmr_dataframe.csv')\n"
   ]
  },
  {
   "cell_type": "code",
   "execution_count": 141,
   "metadata": {
    "collapsed": true
   },
   "outputs": [],
   "source": [
    "# copy dataframe as df_vals_over_fmr will be modified\n",
    "final_cities = df_vals_over_fmr\n",
    "#convert studio to one in order to sum number of craigslist units per city code\n",
    "df_vals_over_fmr.loc[df_vals_over_fmr['beds_baths'] == \"studio\", \"beds_baths\"] = \"1\"\n",
    "# convert beds_baths to float\n",
    "df_vals_over_fmr['beds_baths'] = df_vals_over_fmr['beds_baths'].astype(float)\n",
    "# sum number of beds baths in cities\n",
    "beds_per_city_craigslist = df_vals_over_fmr.groupby('City')['beds_baths'].sum()\n",
    "# reset index of dataframe and rename columns\n",
    "beds_per_city_craigslist = beds_per_city_craigslist.reset_index()\n",
    "beds_per_city_craigslist = beds_per_city_craigslist.rename(columns={'beds_baths': 'craigslist beds per cities'})\n",
    "# join City and County columns\n",
    "# first take subset of dataframe with just counties, cities and cities\n",
    "counties_cities = final_cities[['zipcodes', 'County', 'City']]\n",
    "# drop duplicate rows\n",
    "counties_cities = counties_cities.drop_duplicates()\n",
    "# merge counties and cities columns with craigslist per city sum column\n",
    "beds_per_city_craigslist = counties_cities.merge(beds_per_city_craigslist, how='inner', on=\"City\")\n",
    "beds_per_city_craigslist = beds_per_city_craigslist.drop_duplicates(['City'])"
   ]
  },
  {
   "cell_type": "code",
   "execution_count": 142,
   "metadata": {
    "collapsed": true
   },
   "outputs": [],
   "source": [
    "# function to perform operations on dataframes \n",
    "# for 1,2,3 standard deviations over fmr\n",
    "def munge_over_fmr(dfs, df_beds_sum):\n",
    "    dataframes = []\n",
    "    for dataframe in dfs:\n",
    "        # sum the number of units over fmr\n",
    "        over_fmr_sum = dataframe.groupby('City')['beds_baths'].sum()\n",
    "        # reindex dataframe\n",
    "        over_fmr_craigslist = over_fmr_sum.reset_index()\n",
    "        over_fmr_craigslist = over_fmr_craigslist.rename(columns={'beds_baths': 'craigslist beds per cities over fmr'})\n",
    "        # merge dataframe sums of craigslist per citiescode and sums of overfmr listings per citiescode\n",
    "        merged = pd.concat(objs = [df_beds_sum.set_index('City'), over_fmr_craigslist.set_index('City')], axis = 1)\n",
    "        # create citiescodes column\n",
    "        merged['City'] = merged.index\n",
    "        # reindex dataframe\n",
    "        index_list = list(range(len(merged.index)))\n",
    "        # make index series a column in dataframe\n",
    "        merged['index'] = index_list\n",
    "        # set index column as index of dataframe\n",
    "        merged = merged.set_index(['index'])\n",
    "        # fill na\n",
    "        merged = merged.fillna(0)\n",
    "        # coerce columns\n",
    "        merged['craigslist beds per cities'] = pd.to_numeric(merged['craigslist beds per cities'], errors = \"coerce\")\n",
    "        merged['craigslist beds per cities over fmr'] = pd.to_numeric(merged['craigslist beds per cities over fmr'], errors = \"coerce\")\n",
    "        # percent of craigslist listings x standard deviations over fmr \n",
    "        merged['craigslist pct over fmr'] = 0 \n",
    "        # cast as float\n",
    "        merged['craigslist pct over fmr'] = merged['craigslist pct over fmr'].astype(float)\n",
    "        # percent of craigslist listings per craigslist total in cities code\n",
    "        merged['craigslist pct over fmr'] = merged['craigslist beds per cities over fmr'].div(merged['craigslist beds per cities'])\n",
    "        dataframes.append(merged)\n",
    "    return dataframes"
   ]
  },
  {
   "cell_type": "code",
   "execution_count": 143,
   "metadata": {
    "collapsed": true
   },
   "outputs": [],
   "source": [
    "# sum of over fmr units per zipcode house of units\n",
    "over_fmr_1 = df_vals_over_fmr.loc[df_vals_over_fmr['over fmr1'] == 1]\n",
    "over_fmr_2 = df_vals_over_fmr.loc[df_vals_over_fmr['over fmr2'] == 1]\n",
    "over_fmr_3 = df_vals_over_fmr.loc[df_vals_over_fmr['over fmr3'] == 1]\n",
    "# create list of dataframes with over fmr rows\n",
    "dfs = [over_fmr_1, over_fmr_2, over_fmr_3]\n",
    "# munge dataframes \n",
    "munged1, munged2, munged3 = munge_over_fmr(dfs, beds_per_city_craigslist)\n",
    "munged_list = [munged1, munged2, munged3]\n",
    "# save munged dataframes to csvs\n",
    "for df_munged in munged_list:\n",
    "    count = 1\n",
    "    df_munged.to_csv('craigslist_munged' + str(count) + '.csv')\n",
    "    count += 1"
   ]
  },
  {
   "cell_type": "code",
   "execution_count": 164,
   "metadata": {
    "collapsed": true
   },
   "outputs": [],
   "source": [
    "# subset counties so as to analyze them separately \n",
    "# since we know that ramsey and hennepin affordabilities differ\n",
    "ramsey_data = final_cities.loc[(final_cities['County'] == \"Ramsey\")]\n",
    "hennepin_data = final_cities.loc[(final_cities['County'] == \"Hennepin\")]\n",
    "# get st paul and minneapolis rows into separate dataframes\n",
    "ramsey_st_paul = ramsey_data.loc[ramsey_data['City'] == \"SAINT PAUL\"]\n",
    "hennepin_minne = hennepin_data.loc[hennepin_data['City'] == \"MINNEAPOLIS\"]\n",
    "# get all cities that are not minneapolis or st paul in ramsey and hennepin into separate dataframes\n",
    "# respectively\n",
    "ram_no_st_paul = ramsey_data.loc[ramsey_data['City'] != \"SAINT PAUL\"]\n",
    "hen_no_minne = hennepin_data.loc[hennepin_data['City'] != \"MINNEAPOLIS\"]"
   ]
  },
  {
   "cell_type": "code",
   "execution_count": 150,
   "metadata": {
    "collapsed": true
   },
   "outputs": [],
   "source": [
    "# write function to run t-test difference of means\n",
    "# on both datasets\n",
    "# run two sample means t-test \n",
    "def city_vs_suburb(suburbs_df, city_df):\n",
    "    suburbs_total = len(suburbs_df)\n",
    "    city_total = len(city_df)\n",
    "    suburbs_overfmr = len(suburbs_df.loc[suburbs_df['over fmr1'] == 1])\n",
    "    city_overfmr = len(city_df.loc[city_df['over fmr1'] == 1])\n",
    "    # create numpy array of rentals one standard deviation over fair market rent for respective cities\n",
    "    count = np.array([int(city_overfmr), int(suburbs_overfmr)])\n",
    "    # create a numpy array of total number of rentals in saint paul and minneapolis\n",
    "    nobs = np.array([int(city_total), int(suburbs_total)])\n",
    "    # run proportions z test assuming null hypothesis is true, hence \"larger\" as argument for alternative\n",
    "    # that minneapolis has a greater proportion of over fair market rent \n",
    "    z, p = proportions_ztest(count, nobs, alternative = 'larger' )\n",
    "    return (\"p value = \", p)\n"
   ]
  },
  {
   "cell_type": "code",
   "execution_count": 168,
   "metadata": {},
   "outputs": [
    {
     "data": {
      "text/plain": [
       "2.8231574654258761e-43"
      ]
     },
     "execution_count": 168,
     "metadata": {},
     "output_type": "execute_result"
    }
   ],
   "source": [
    "#def city_vs_suburb(suburbs_df, city_df):\n",
    "suburbs_df = ram_no_st_paul\n",
    "city_df = ramsey_st_paul\n",
    "suburbs_total = len(suburbs_df)\n",
    "city_total = len(city_df)\n",
    "suburbs_overfmr = len(suburbs_df.loc[suburbs_df['over fmr1'] == 1])\n",
    "city_overfmr = len(city_df.loc[city_df['over fmr1'] == 1])\n",
    "#suburbs_overfmr = len(suburbs_overfmr)\n",
    "#city_overfmr = len(city_overfmr)\n",
    "# create numpy array of rentals one standard deviation over fair market rent for respective cities\n",
    "count = np.array([int(city_overfmr), int(suburbs_overfmr)])\n",
    "# create a numpy array of total number of rentals in saint paul and minneapolis\n",
    "nobs = np.array([int(city_total), int(suburbs_total)])\n",
    "# run proportions z test assuming null hypothesis is true, hence \"larger\" as argument for alternative\n",
    "# that minneapolis has a greater proportion of over fair market rent \n",
    "z, p = proportions_ztest(count, nobs, alternative = 'larger' )\n",
    "p"
   ]
  },
  {
   "cell_type": "markdown",
   "metadata": {},
   "source": [
    "## Pearson Correlation Coefficient Between Price and Square Feet\n",
    "\n",
    "Alpha Level = .05\n",
    "\n",
    "Null Hypothesis: There is no significant relationship between the square feet and price variables\n",
    "\n",
    "Alternative Hypothesis: There is a statistically significant relationship between the square feet and price variables"
   ]
  },
  {
   "cell_type": "code",
   "execution_count": 46,
   "metadata": {},
   "outputs": [
    {
     "data": {
      "image/png": "[encoded data removed]",
      "text/plain": [
       "<matplotlib.figure.Figure at 0x227026c96a0>"
      ]
     },
     "metadata": {},
     "output_type": "display_data"
    }
   ],
   "source": [
    "# generate a scatterplot for price vs square feet \n",
    "# and create lists as inputs\n",
    "x = [a for a in over_fmr['square feet']]\n",
    "y = list(over_fmr['price'])\n",
    "# generate plot object\n",
    "fig, ax = plt.subplots(figsize=(8,5))\n",
    "ax.scatter(x, y,alpha=0.2)\n",
    "# set plot configurations\n",
    "ax.set_xlim([0, max(x)])\n",
    "ax.set_xlabel('Square Feet', fontsize=12)\n",
    "ax.set_ylabel('Price', fontsize=12)\n",
    "ax.set_title('Square feet by Price', fontsize=14)\n",
    "# set plot layout\n",
    "ax.grid(True)\n",
    "fig.tight_layout()\n",
    "plt.show()"
   ]
  },
  {
   "cell_type": "code",
   "execution_count": 62,
   "metadata": {},
   "outputs": [
    {
     "name": "stdout",
     "output_type": "stream",
     "text": [
      "dataset with no square feet values that were filled with the mean = length  15111\n"
     ]
    },
    {
     "data": {
      "text/plain": [
       "(0.46994225203439949, 0.0)"
      ]
     },
     "execution_count": 62,
     "metadata": {},
     "output_type": "execute_result"
    }
   ],
   "source": [
    "# run pearson r to obtain correlation coefficient between square ft and price\n",
    "print (\"dataset with no square feet values that were filled with the mean = length \", len(over_fmr_drop_null))\n",
    "stats.pearsonr(over_fmr_drop_null['price'], over_fmr_drop_null['square feet'])"
   ]
  },
  {
   "cell_type": "code",
   "execution_count": 63,
   "metadata": {},
   "outputs": [
    {
     "name": "stdout",
     "output_type": "stream",
     "text": [
      "dataset with square feet values that were filled with the mean = length  17111\n"
     ]
    },
    {
     "data": {
      "text/plain": [
       "(0.47122639914774045, 0.0)"
      ]
     },
     "execution_count": 63,
     "metadata": {},
     "output_type": "execute_result"
    }
   ],
   "source": [
    "# run pearson r to obtain correlation coefficient between square ft and price\n",
    "print (\"dataset with square feet values that were filled with the mean = length \", len(over_fmr))\n",
    "stats.pearsonr(over_fmr['price'], over_fmr['square feet'])"
   ]
  },
  {
   "cell_type": "markdown",
   "metadata": {},
   "source": [
    "As is indicated by the results Pearson Correlation Coefficient between Price and Square feet, at the .05 level of significance we can accept the alternative hypothesis that there is a relationship between the Price and Square Feet variables such that 47% of the variance of the Price residuals can be explained by the variance of the residuals of the Square Feet residuals"
   ]
  },
  {
   "cell_type": "markdown",
   "metadata": {},
   "source": [
    "## Autocorrelation"
   ]
  },
  {
   "cell_type": "code",
   "execution_count": 72,
   "metadata": {
    "collapsed": true
   },
   "outputs": [],
   "source": [
    "# set datetime as index\n",
    "time_df = over_fmr.set_index(['datetime'])\n",
    "# create datetime object\n",
    "time_df.index = pd.to_datetime(time_df.index)\n",
    "# subset to only include price\n",
    "time_df = time_df['price']"
   ]
  },
  {
   "cell_type": "code",
   "execution_count": 86,
   "metadata": {},
   "outputs": [
    {
     "data": {
      "image/png": "[encoded data removed]",
      "text/plain": [
       "<matplotlib.figure.Figure at 0x227028699e8>"
      ]
     },
     "metadata": {},
     "output_type": "display_data"
    }
   ],
   "source": [
    "# use fivethirtyeight plot style\n",
    "plt.style.use('fivethirtyeight')\n",
    "\n",
    "\n",
    "# Display the autocorrelation of price over time\n",
    "fig = tsaplots.plot_acf(time_df, lags=8)\n",
    "\n",
    "# Show plot\n",
    "plt.show()"
   ]
  },
  {
   "cell_type": "code",
   "execution_count": 87,
   "metadata": {},
   "outputs": [
    {
     "data": {
      "image/png": "[encoded data removed]",
      "text/plain": [
       "<matplotlib.figure.Figure at 0x22702da6a58>"
      ]
     },
     "metadata": {},
     "output_type": "display_data"
    }
   ],
   "source": [
    "# Display partial autocorrelation of price over time\n",
    "fig = tsaplots.plot_pacf(time_df, lags=8)\n",
    "\n",
    "# Show plot\n",
    "plt.show()"
   ]
  },
  {
   "cell_type": "code",
   "execution_count": null,
   "metadata": {
    "collapsed": true
   },
   "outputs": [],
   "source": [
    "# chi squared for cities? \n",
    "# affordability of St. Paul and Minneapolis vs. surrounding suburbs, chi squared test of difference?\n",
    "# or \n",
    "# proximity to city center?\n",
    "\n",
    "# calculate pearson r\n",
    "\n",
    "# another thing to look at would be price per square ft per zip code, each zipcode gets a number \n",
    "\n",
    "# proportion of over fmr in zipcodes below average wealth and how they compare to proportions over fmr in zipcodes over average \n",
    "# wealth\n",
    " # - take the mean of the percentages \n",
    "    \n",
    "# chi-squared test for association between two variables (could be zipcodes)"
   ]
  }
 ],
 "metadata": {
  "kernelspec": {
   "display_name": "Python 3",
   "language": "python",
   "name": "python3"
  },
  "language_info": {
   "codemirror_mode": {
    "name": "ipython",
    "version": 3
   },
   "file_extension": ".py",
   "mimetype": "text/x-python",
   "name": "python",
   "nbconvert_exporter": "python",
   "pygments_lexer": "ipython3",
   "version": "3.6.3"
  }
 },
 "nbformat": 4,
 "nbformat_minor": 2
}
