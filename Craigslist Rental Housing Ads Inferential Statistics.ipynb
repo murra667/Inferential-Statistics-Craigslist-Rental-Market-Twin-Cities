{
 "cells": [
  {
   "cell_type": "code",
   "execution_count": 63,
   "metadata": {},
   "outputs": [],
   "source": [
    "import pickle\n",
    "import pandas as pd\n",
    "from statsmodels.stats.proportion import proportions_ztest\n",
    "from statsmodels.stats.diagnostic import acorr_ljungbox\n",
    "import statsmodels as statsmodels\n",
    "import numpy as np\n",
    "import matplotlib.pyplot as plt\n",
    "from scipy import stats\n",
    "import bokeh.plotting as bkp\n",
    "from mpl_toolkits.axes_grid1 import make_axes_locatable\n",
    "from statsmodels.graphics import tsaplots\n",
    "#from uszipcode import ZipcodeSearchEngine\n",
    "import statsmodels.api as sm\n",
    "import pylab\n",
    "import statsmodels.api as sm"
   ]
  },
  {
   "cell_type": "code",
   "execution_count": 7,
   "metadata": {},
   "outputs": [],
   "source": [
    "# import dataframe containing column on properties over fair market rent\n",
    "over_fmr = pd.read_csv(\"over_fmr_dataframe.csv\")"
   ]
  },
  {
   "cell_type": "markdown",
   "metadata": {},
   "source": [
    "## Test of Normality of Distribution of Listings With Bedroom Attribute of 1\n",
    "\n",
    "Null Hypothesis: The sample of listings labeled as one bedroom comes from a normal distribution\n",
    "\n",
    "Alternative Hypothesis: The sample of listings labeled as one bedroom does not come from a normal distribution\n",
    "\n",
    "Alpha = .05"
   ]
  },
  {
   "cell_type": "code",
   "execution_count": 6,
   "metadata": {},
   "outputs": [
    {
     "data": {
      "text/plain": [
       "'P-value [1.19958732e-47]'"
      ]
     },
     "execution_count": 6,
     "metadata": {},
     "output_type": "execute_result"
    }
   ],
   "source": [
    "# import dataframe containing column on properties over fair market rent\n",
    "over_fmr = pd.read_csv(\"over_fmr_dataframe.csv\")\n",
    "# subset beds that were assigned one to take a closer look\n",
    "one_bed = over_fmr.loc[over_fmr['beds_baths'] == \"1\"]\n",
    "x = (one_bed[['price']])\n",
    "# run test of normality \n",
    "k2, p = stats.normaltest(x)\n",
    "(\"P-value {}\".format(p))"
   ]
  },
  {
   "cell_type": "markdown",
   "metadata": {},
   "source": [
    "A test of normality for the sample of craigslist listings advertised as 1 bedroom at the .05 level of significance suggests to accept the alternative hypothesis, that the distribution is not normal."
   ]
  },
  {
   "cell_type": "markdown",
   "metadata": {},
   "source": [
    "## Two Sample Proportions Z-test To Test Whether St. Paul Is More Affordable Than Minneapolis\n",
    "\n",
    "Alpha = .05\n",
    "\n",
    "Null Hypothesis: There is not a difference between the proportion of craigslist rentals in Minneapolis one standard deviaton over FMR and the proportion of craigslist rentals in St. Paul one standard deviation over FMR\n",
    "\n",
    "Alternative Hypothesis: The proportion of craigslist rentals in Minneapolis one standard deviaton over FMR is greater than the proportion of craigslist rentals in St. Paul one standard deviation over FMR"
   ]
  },
  {
   "cell_type": "code",
   "execution_count": 8,
   "metadata": {},
   "outputs": [],
   "source": [
    "# subset st paul and minneapolis ads that are one standard deviation over the fair market rent\n",
    "st_paul_over_fmr = over_fmr.loc[(over_fmr['City'] == \"SAINT PAUL\") & (over_fmr['over fmr1'] == 1)]\n",
    "minneapolis_over_fmr = over_fmr.loc[(over_fmr[\"City\"] == \"MINNEAPOLIS\") & (over_fmr['over fmr1'] == 1)]"
   ]
  },
  {
   "cell_type": "code",
   "execution_count": 9,
   "metadata": {},
   "outputs": [],
   "source": [
    "# subset total listings within St Paul and Minneapolis\n",
    "st_paul_sample = len(over_fmr.loc[over_fmr['City'] == \"SAINT PAUL\"])\n",
    "minneapolis_sample = len(over_fmr.loc[over_fmr['City'] == \"MINNEAPOLIS\"])"
   ]
  },
  {
   "cell_type": "code",
   "execution_count": 10,
   "metadata": {},
   "outputs": [
    {
     "name": "stdout",
     "output_type": "stream",
     "text": [
      "2305 7165 1213 4219\n"
     ]
    }
   ],
   "source": [
    "# get total amount of listings in St. Paul and Minneapolis over fmr\n",
    "st_paul_true = len(st_paul_over_fmr)\n",
    "minneapolis_true = len(minneapolis_over_fmr)\n",
    "print (st_paul_sample, minneapolis_sample, st_paul_true, minneapolis_true)"
   ]
  },
  {
   "cell_type": "code",
   "execution_count": 11,
   "metadata": {},
   "outputs": [
    {
     "name": "stdout",
     "output_type": "stream",
     "text": [
      "p value =  6.286530431543305e-08\n"
     ]
    }
   ],
   "source": [
    "# create numpy array of rentals one standard deviation over fair market rent for respective cities\n",
    "count = np.array([int(minneapolis_true), int(st_paul_true)])\n",
    "# create a numpy array of total number of rentals in saint paul and minneapolis\n",
    "nobs = np.array([int(minneapolis_sample), int(st_paul_sample)])\n",
    "# run proportions z test assuming null hypothesis is true, hence \"larger\" as argument for alternative\n",
    "# that minneapolis has a greater proportion of over fair market rent \n",
    "z, p = proportions_ztest(count, nobs, alternative = 'larger' )\n",
    "print (\"p value = \", p)"
   ]
  },
  {
   "cell_type": "markdown",
   "metadata": {},
   "source": [
    "The p-value is below the alpha level of .05, so the alternative hypothesis - that the proportion of craigslist rentals in Minneapolis one standard deviaton over FMR is greater than the proportion of craigslist rentals in St. Paul one standard deviation over FMR - is accepted."
   ]
  },
  {
   "cell_type": "markdown",
   "metadata": {},
   "source": [
    "## Two Sample T-test of Means to Test If There Is A Difference in Affordability Between Zipodes Below And Above Median Wealth Rating\n",
    "\n",
    "Alpha = .05\n",
    "\n",
    "Null Hypothesis: There is no difference between the means of the proportion of craigslist listings per Zipcode Above Median Wealth and the proportion of craigslist listings per Zipcode below Median Wealth\n",
    "\n",
    "Alternative Hypothesis: There is a significant difference between the means of the proportion of craigslist listings per Zipcode Above Median Wealth and the proportion of craigslist listings per Zipcode below Median Wealth"
   ]
  },
  {
   "cell_type": "code",
   "execution_count": 12,
   "metadata": {},
   "outputs": [],
   "source": [
    "# read in the munged data\n",
    "munged = pd.read_csv('craigslist_munged1.csv')\n",
    "munged\n",
    "# subset munged data into above median income and under median income\n",
    "above_med = munged.loc[munged['above median'] == True]\n",
    "under_med = munged.loc[munged['above median'] == False]"
   ]
  },
  {
   "cell_type": "code",
   "execution_count": 13,
   "metadata": {},
   "outputs": [],
   "source": [
    "# calculat mean and standard deviation for craigslist pct over fmr field\n",
    "# for each subset\n",
    "above_med_std = np.std(above_med['craigslist pct over fmr'])\n",
    "under_med_std = np.std(under_med['craigslist pct over fmr'])\n",
    "above_med_mu = np.std(above_med['craigslist pct over fmr'])\n",
    "under_med_mu = np.std(under_med['craigslist pct over fmr'])\n"
   ]
  },
  {
   "cell_type": "code",
   "execution_count": 14,
   "metadata": {},
   "outputs": [
    {
     "data": {
      "text/plain": [
       "'P- value: 0.9637875821219561'"
      ]
     },
     "execution_count": 14,
     "metadata": {},
     "output_type": "execute_result"
    }
   ],
   "source": [
    "# run two sample means t-test \n",
    "t, p = stats.ttest_ind(above_med['craigslist pct over fmr'], under_med['craigslist pct over fmr'])\n",
    "(\"P- value: {}\".format(p))"
   ]
  },
  {
   "cell_type": "markdown",
   "metadata": {},
   "source": [
    "## Whitney Test With the Same Data and Same Null and Alternative Hypotheses"
   ]
  },
  {
   "cell_type": "code",
   "execution_count": 15,
   "metadata": {},
   "outputs": [
    {
     "data": {
      "text/plain": [
       "'P- value: 0.4017213139924529'"
      ]
     },
     "execution_count": 15,
     "metadata": {},
     "output_type": "execute_result"
    }
   ],
   "source": [
    "s, p = stats.mannwhitneyu(above_med['craigslist pct over fmr'], under_med['craigslist pct over fmr'], alternative = \"two-sided\")\n",
    "(\"P- value: {}\".format(p))"
   ]
  },
  {
   "cell_type": "markdown",
   "metadata": {},
   "source": [
    "## Two Sample Z-test to Analyze Affordability Between St. Paul/Minneapolis and Their Surrounding Suburbs"
   ]
  },
  {
   "cell_type": "markdown",
   "metadata": {},
   "source": [
    "Alpha = .05\n",
    "\n",
    "Null Hypothesis: There is not a difference between the proportion of craigslist rentals over the fair market rent in the Suburban Cities of Minneapolis/St. Paul vs Minneapolis/St. Paul themselves.\n",
    "\n",
    "Alternative Hypothesis: There is a significant difference between the proportion of craigslist rentals over the fair market rent in the Suburban Cities of Minneapolis/St. Paul vs Minneapolis/St. Paul themselves.\n"
   ]
  },
  {
   "cell_type": "code",
   "execution_count": null,
   "metadata": {},
   "outputs": [],
   "source": [
    "# read in dataframe containing rental data\n",
    "final_cities = pd.read_csv('over_fmr_dataframe.csv')"
   ]
  },
  {
   "cell_type": "code",
   "execution_count": 33,
   "metadata": {},
   "outputs": [],
   "source": [
    "cities = final_cities.loc[(final_cities['City'] == \"SAINT PAUL\") | (final_cities['City'] == \"MINNEAPOLIS\")]\n",
    "suburbs = final_cities.loc[(final_cities['City'] != \"SAINT PAUL\") & (final_cities['City'] != \"MINNEAPOLIS\")]"
   ]
  },
  {
   "cell_type": "code",
   "execution_count": 37,
   "metadata": {},
   "outputs": [],
   "source": [
    "# write function to run t-test difference of means\n",
    "# on both datasets\n",
    "# run two sample means t-test \n",
    "def city_vs_suburb(suburbs_df, city_df):\n",
    "    suburbs_total = len(suburbs_df)\n",
    "    city_total = len(city_df)\n",
    "    suburbs_overfmr = len(suburbs_df.loc[suburbs_df['over fmr1'] == 1])\n",
    "    city_overfmr = len(city_df.loc[city_df['over fmr1'] == 1])\n",
    "    # create numpy array of rentals one standard deviation over fair market rent for respective cities\n",
    "    count = np.array([int(city_overfmr), int(suburbs_overfmr)])\n",
    "    # create a numpy array of total number of rentals in saint paul and minneapolis\n",
    "    nobs = np.array([int(city_total), int(suburbs_total)])\n",
    "    # run proportions z test assuming null hypothesis is true, hence \"larger\" as argument for alternative\n",
    "    # that minneapolis has a greater proportion of over fair market rent \n",
    "    z, p = proportions_ztest(count, nobs, alternative = 'larger' )\n",
    "    return (\"p value = {} \".format(p))\n"
   ]
  },
  {
   "cell_type": "code",
   "execution_count": 38,
   "metadata": {},
   "outputs": [
    {
     "data": {
      "text/plain": [
       "'p value = 2.4313664791865632e-141 '"
      ]
     },
     "execution_count": 38,
     "metadata": {},
     "output_type": "execute_result"
    }
   ],
   "source": [
    "city_vs_suburb(suburbs, cities)"
   ]
  },
  {
   "cell_type": "markdown",
   "metadata": {},
   "source": [
    "The p-value is below the alpha level of .05, so the alternative hypothesis - that the proportion of craigslist rentals in the cities of Minneapolis and St .Paul one standard deviaton over FMR is greater than that of the proportion of rentals one standard deviation over the fmr in the suburbs - is accepted. "
   ]
  },
  {
   "cell_type": "markdown",
   "metadata": {},
   "source": [
    "## Pearson Correlation Coefficient Between Price and Square Feet\n",
    "\n",
    "Alpha Level = .05\n",
    "\n",
    "Null Hypothesis: There is no significant relationship between the square feet and price variables\n",
    "\n",
    "Alternative Hypothesis: There is a statistically significant relationship between the square feet and price variables"
   ]
  },
  {
   "cell_type": "code",
   "execution_count": 23,
   "metadata": {},
   "outputs": [
    {
     "data": {
      "image/png": "[encoded data removed]",
      "text/plain": [
       "<Figure size 576x360 with 1 Axes>"
      ]
     },
     "metadata": {},
     "output_type": "display_data"
    }
   ],
   "source": [
    "# generate a scatterplot for price vs square feet \n",
    "# and create lists as inputs\n",
    "x = [a for a in over_fmr['square feet']]\n",
    "y = list(over_fmr['price'])\n",
    "# generate plot object\n",
    "fig, ax = plt.subplots(figsize=(8,5))\n",
    "ax.scatter(x, y,alpha=0.2)\n",
    "# set plot configurations\n",
    "ax.set_xlim([0, max(x)])\n",
    "ax.set_xlabel('Square Feet', fontsize=12)\n",
    "ax.set_ylabel('Price', fontsize=12)\n",
    "ax.set_title('Square feet by Price', fontsize=14)\n",
    "# set plot layout\n",
    "ax.grid(True)\n",
    "fig.tight_layout()\n",
    "plt.show()"
   ]
  },
  {
   "cell_type": "code",
   "execution_count": 30,
   "metadata": {},
   "outputs": [
    {
     "name": "stdout",
     "output_type": "stream",
     "text": [
      "dataset with square feet values that were filled with the mean = length  17111\n"
     ]
    },
    {
     "data": {
      "text/plain": [
       "(0.47122639914774045, 0.0)"
      ]
     },
     "execution_count": 30,
     "metadata": {},
     "output_type": "execute_result"
    }
   ],
   "source": [
    "# run pearson r to obtain correlation coefficient between square ft and price\n",
    "print (\"dataset with square feet values that were filled with the mean = length \", len(over_fmr))\n",
    "stats.pearsonr(over_fmr['price'], over_fmr['square feet'])"
   ]
  },
  {
   "cell_type": "markdown",
   "metadata": {},
   "source": [
    "As is indicated by the results Pearson Correlation Coefficient between Price and Square feet, at the .05 level of significance we can accept the alternative hypothesis that there is a relationship between the Price and Square Feet variables such that 47% of the variance of the Price residuals can be explained by the variance of the residuals of the Square Feet residuals"
   ]
  },
  {
   "cell_type": "markdown",
   "metadata": {},
   "source": [
    "## Autocorrelation and Partial Autocorrelation to Investigate Relationship Between Price And Time"
   ]
  },
  {
   "cell_type": "code",
   "execution_count": 72,
   "metadata": {},
   "outputs": [],
   "source": [
    "# subset price and datetime\n",
    "time_df = over_fmr[['datetime', 'price']]\n",
    "# set datetime as index\n",
    "time_df = time_df.set_index(['datetime'])\n",
    "# create datetime object\n",
    "time_df.index = pd.to_datetime(time_df.index)"
   ]
  },
  {
   "cell_type": "code",
   "execution_count": 66,
   "metadata": {
    "scrolled": true
   },
   "outputs": [
    {
     "data": {
      "image/png": "[encoded data removed]",
      "text/plain": [
       "<Figure size 432x288 with 1 Axes>"
      ]
     },
     "metadata": {},
     "output_type": "display_data"
    }
   ],
   "source": [
    "# use fivethirtyeight plot style\n",
    "plt.style.use('fivethirtyeight')\n",
    "# Display the autocorrelation of price over time\n",
    "fig = tsaplots.plot_acf(time_df, lags=8)\n",
    "# Show plot\n",
    "plt.show()"
   ]
  },
  {
   "cell_type": "markdown",
   "metadata": {},
   "source": [
    "The autocorrelation plot with 8 lag windows to represent approximately 2-week periods in the dataset shows a statistically significant correlation between time and price variables for all 8 lags. The highest correlation coefficient around 60%, and the lowest slightly above 40%. "
   ]
  },
  {
   "cell_type": "code",
   "execution_count": 89,
   "metadata": {
    "scrolled": false
   },
   "outputs": [
    {
     "data": {
      "image/png": "[encoded data removed]",
      "text/plain": [
       "<Figure size 432x288 with 1 Axes>"
      ]
     },
     "metadata": {},
     "output_type": "display_data"
    }
   ],
   "source": [
    "# Display partial autocorrelation of price over time\n",
    "fig = tsaplots.plot_pacf(time_df, lags=8)\n",
    "# Show plot\n",
    "plt.show()"
   ]
  },
  {
   "cell_type": "markdown",
   "metadata": {},
   "source": [
    "The partial autocorrelation plot with 8 lag windows to represent approximately 2-week periods in the dataset also shows a statistically significant correlation between time and price variables for all 8 lags. However, a partial autocorrelation may be better representative of the true correlation betweeen price and time variables, as it removes any variables besides price and time alone that may contribute to the correlation co-efficient."
   ]
  }
 ],
 "metadata": {
  "kernelspec": {
   "display_name": "Python 3",
   "language": "python",
   "name": "python3"
  },
  "language_info": {
   "codemirror_mode": {
    "name": "ipython",
    "version": 3
   },
   "file_extension": ".py",
   "mimetype": "text/x-python",
   "name": "python",
   "nbconvert_exporter": "python",
   "pygments_lexer": "ipython3",
   "version": "3.6.5"
  }
 },
 "nbformat": 4,
 "nbformat_minor": 2
}
